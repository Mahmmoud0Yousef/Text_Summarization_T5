{
 "cells": [
  {
   "cell_type": "markdown",
   "id": "419a080b",
   "metadata": {},
   "source": [
    "# Important Libraries"
   ]
  },
  {
   "cell_type": "code",
   "execution_count": 1,
   "id": "df9f0a41",
   "metadata": {},
   "outputs": [
    {
     "name": "stderr",
     "output_type": "stream",
     "text": [
      "[nltk_data] Downloading package stopwords to\n",
      "[nltk_data]     C:\\Users\\LENOVO\\AppData\\Roaming\\nltk_data...\n",
      "[nltk_data]   Package stopwords is already up-to-date!\n"
     ]
    },
    {
     "data": {
      "text/plain": [
       "True"
      ]
     },
     "execution_count": 1,
     "metadata": {},
     "output_type": "execute_result"
    }
   ],
   "source": [
    "import pandas as pd\n",
    "import numpy as np\n",
    "import matplotlib.pyplot as plt\n",
    "import nltk\n",
    "import re\n",
    "import string\n",
    "from nltk.corpus import stopwords\n",
    "import warnings\n",
    "warnings.filterwarnings('ignore')\n",
    "nltk.download('stopwords')"
   ]
  },
  {
   "cell_type": "code",
   "execution_count": 2,
   "id": "219d831d",
   "metadata": {},
   "outputs": [],
   "source": [
    "train_data = pd.read_csv('samsum-train.csv')\n",
    "val_data = pd.read_csv('samsum-validation.csv')\n",
    "test_data = pd.read_csv('samsum-test.csv')\n"
   ]
  },
  {
   "cell_type": "code",
   "execution_count": 29,
   "id": "6b21df42",
   "metadata": {},
   "outputs": [
    {
     "data": {
      "text/html": [
       "<div>\n",
       "<style scoped>\n",
       "    .dataframe tbody tr th:only-of-type {\n",
       "        vertical-align: middle;\n",
       "    }\n",
       "\n",
       "    .dataframe tbody tr th {\n",
       "        vertical-align: top;\n",
       "    }\n",
       "\n",
       "    .dataframe thead th {\n",
       "        text-align: right;\n",
       "    }\n",
       "</style>\n",
       "<table border=\"1\" class=\"dataframe\">\n",
       "  <thead>\n",
       "    <tr style=\"text-align: right;\">\n",
       "      <th></th>\n",
       "      <th>dialogue</th>\n",
       "      <th>summary</th>\n",
       "      <th>input_len</th>\n",
       "    </tr>\n",
       "  </thead>\n",
       "  <tbody>\n",
       "    <tr>\n",
       "      <th>0</th>\n",
       "      <td>amanda baked cookies want jerry sure amanda il...</td>\n",
       "      <td>amanda baked cookies bring jerry tomorrow</td>\n",
       "      <td>18</td>\n",
       "    </tr>\n",
       "    <tr>\n",
       "      <th>1</th>\n",
       "      <td>olivia voting election oliver liberals always ...</td>\n",
       "      <td>olivia olivier voting liberals election</td>\n",
       "      <td>17</td>\n",
       "    </tr>\n",
       "    <tr>\n",
       "      <th>2</th>\n",
       "      <td>tim hi whats kim bad mood tbh going lots stuff...</td>\n",
       "      <td>kim may try pomodoro technique recommended tim...</td>\n",
       "      <td>105</td>\n",
       "    </tr>\n",
       "    <tr>\n",
       "      <th>3</th>\n",
       "      <td>edward rachel think im ove bella rachel dont s...</td>\n",
       "      <td>edward thinks love bella rachel wants edward o...</td>\n",
       "      <td>39</td>\n",
       "    </tr>\n",
       "    <tr>\n",
       "      <th>4</th>\n",
       "      <td>sam hey overheard rick say something sam dont ...</td>\n",
       "      <td>sam confused overheard rick complaining roomma...</td>\n",
       "      <td>181</td>\n",
       "    </tr>\n",
       "    <tr>\n",
       "      <th>...</th>\n",
       "      <td>...</td>\n",
       "      <td>...</td>\n",
       "      <td>...</td>\n",
       "    </tr>\n",
       "    <tr>\n",
       "      <th>14726</th>\n",
       "      <td>romeo people may know list greta ah maybe chan...</td>\n",
       "      <td>romeo trying get greta add friend list refuses</td>\n",
       "      <td>51</td>\n",
       "    </tr>\n",
       "    <tr>\n",
       "      <th>14727</th>\n",
       "      <td>theresa theresa theresa hey louise u theresa w...</td>\n",
       "      <td>theresa work gets free food free yoga classes ...</td>\n",
       "      <td>166</td>\n",
       "    </tr>\n",
       "    <tr>\n",
       "      <th>14728</th>\n",
       "      <td>john every day bad news japan hunt whales eric...</td>\n",
       "      <td>japan going hunt whales island norway never st...</td>\n",
       "      <td>139</td>\n",
       "    </tr>\n",
       "    <tr>\n",
       "      <th>14729</th>\n",
       "      <td>jennifer dear celia jennifer afternoon collins...</td>\n",
       "      <td>celia couldnt make afternoon collins jennifer ...</td>\n",
       "      <td>267</td>\n",
       "    </tr>\n",
       "    <tr>\n",
       "      <th>14730</th>\n",
       "      <td>georgia ready hotel hunting need book somethin...</td>\n",
       "      <td>georgia juliette looking hotel lisbon juliette...</td>\n",
       "      <td>276</td>\n",
       "    </tr>\n",
       "  </tbody>\n",
       "</table>\n",
       "<p>14731 rows × 3 columns</p>\n",
       "</div>"
      ],
      "text/plain": [
       "                                                dialogue  \\\n",
       "0      amanda baked cookies want jerry sure amanda il...   \n",
       "1      olivia voting election oliver liberals always ...   \n",
       "2      tim hi whats kim bad mood tbh going lots stuff...   \n",
       "3      edward rachel think im ove bella rachel dont s...   \n",
       "4      sam hey overheard rick say something sam dont ...   \n",
       "...                                                  ...   \n",
       "14726  romeo people may know list greta ah maybe chan...   \n",
       "14727  theresa theresa theresa hey louise u theresa w...   \n",
       "14728  john every day bad news japan hunt whales eric...   \n",
       "14729  jennifer dear celia jennifer afternoon collins...   \n",
       "14730  georgia ready hotel hunting need book somethin...   \n",
       "\n",
       "                                                 summary  input_len  \n",
       "0              amanda baked cookies bring jerry tomorrow         18  \n",
       "1                olivia olivier voting liberals election         17  \n",
       "2      kim may try pomodoro technique recommended tim...        105  \n",
       "3      edward thinks love bella rachel wants edward o...         39  \n",
       "4      sam confused overheard rick complaining roomma...        181  \n",
       "...                                                  ...        ...  \n",
       "14726     romeo trying get greta add friend list refuses         51  \n",
       "14727  theresa work gets free food free yoga classes ...        166  \n",
       "14728  japan going hunt whales island norway never st...        139  \n",
       "14729  celia couldnt make afternoon collins jennifer ...        267  \n",
       "14730  georgia juliette looking hotel lisbon juliette...        276  \n",
       "\n",
       "[14731 rows x 3 columns]"
      ]
     },
     "execution_count": 29,
     "metadata": {},
     "output_type": "execute_result"
    }
   ],
   "source": [
    "train_data\n"
   ]
  },
  {
   "cell_type": "code",
   "execution_count": 3,
   "id": "d3725ec2",
   "metadata": {},
   "outputs": [
    {
     "data": {
      "text/html": [
       "<div>\n",
       "<style scoped>\n",
       "    .dataframe tbody tr th:only-of-type {\n",
       "        vertical-align: middle;\n",
       "    }\n",
       "\n",
       "    .dataframe tbody tr th {\n",
       "        vertical-align: top;\n",
       "    }\n",
       "\n",
       "    .dataframe thead th {\n",
       "        text-align: right;\n",
       "    }\n",
       "</style>\n",
       "<table border=\"1\" class=\"dataframe\">\n",
       "  <thead>\n",
       "    <tr style=\"text-align: right;\">\n",
       "      <th></th>\n",
       "      <th>id</th>\n",
       "      <th>dialogue</th>\n",
       "      <th>summary</th>\n",
       "    </tr>\n",
       "  </thead>\n",
       "  <tbody>\n",
       "    <tr>\n",
       "      <th>0</th>\n",
       "      <td>13862856</td>\n",
       "      <td>Hannah: Hey, do you have Betty's number?\\nAman...</td>\n",
       "      <td>Hannah needs Betty's number but Amanda doesn't...</td>\n",
       "    </tr>\n",
       "    <tr>\n",
       "      <th>1</th>\n",
       "      <td>13729565</td>\n",
       "      <td>Eric: MACHINE!\\r\\nRob: That's so gr8!\\r\\nEric:...</td>\n",
       "      <td>Eric and Rob are going to watch a stand-up on ...</td>\n",
       "    </tr>\n",
       "    <tr>\n",
       "      <th>2</th>\n",
       "      <td>13680171</td>\n",
       "      <td>Lenny: Babe, can you help me with something?\\r...</td>\n",
       "      <td>Lenny can't decide which trousers to buy. Bob ...</td>\n",
       "    </tr>\n",
       "    <tr>\n",
       "      <th>3</th>\n",
       "      <td>13729438</td>\n",
       "      <td>Will: hey babe, what do you want for dinner to...</td>\n",
       "      <td>Emma will be home soon and she will let Will k...</td>\n",
       "    </tr>\n",
       "    <tr>\n",
       "      <th>4</th>\n",
       "      <td>13828600</td>\n",
       "      <td>Ollie: Hi , are you in Warsaw\\r\\nJane: yes, ju...</td>\n",
       "      <td>Jane is in Warsaw. Ollie and Jane has a party....</td>\n",
       "    </tr>\n",
       "    <tr>\n",
       "      <th>...</th>\n",
       "      <td>...</td>\n",
       "      <td>...</td>\n",
       "      <td>...</td>\n",
       "    </tr>\n",
       "    <tr>\n",
       "      <th>814</th>\n",
       "      <td>13611902-1</td>\n",
       "      <td>Alex: Were you able to attend Friday night's b...</td>\n",
       "      <td>Benjamin didn't come to see a basketball game ...</td>\n",
       "    </tr>\n",
       "    <tr>\n",
       "      <th>815</th>\n",
       "      <td>13820989</td>\n",
       "      <td>Jamilla: remember that the audition starts at ...</td>\n",
       "      <td>The audition starts at 7.30 P.M. in Antena 3.</td>\n",
       "    </tr>\n",
       "    <tr>\n",
       "      <th>816</th>\n",
       "      <td>13717193</td>\n",
       "      <td>Marta: &lt;file_gif&gt;\\r\\nMarta: Sorry girls, I cli...</td>\n",
       "      <td>Marta sent a file accidentally,</td>\n",
       "    </tr>\n",
       "    <tr>\n",
       "      <th>817</th>\n",
       "      <td>13829115</td>\n",
       "      <td>Cora: Have you heard how much fuss British med...</td>\n",
       "      <td>There was a meet-and-greet with James Charles ...</td>\n",
       "    </tr>\n",
       "    <tr>\n",
       "      <th>818</th>\n",
       "      <td>13818810</td>\n",
       "      <td>Rachel: &lt;file_other&gt;\\r\\nRachel: Top 50 Best Fi...</td>\n",
       "      <td>Rachel sends a list of Top 50 films of 2018. J...</td>\n",
       "    </tr>\n",
       "  </tbody>\n",
       "</table>\n",
       "<p>819 rows × 3 columns</p>\n",
       "</div>"
      ],
      "text/plain": [
       "             id                                           dialogue  \\\n",
       "0      13862856  Hannah: Hey, do you have Betty's number?\\nAman...   \n",
       "1      13729565  Eric: MACHINE!\\r\\nRob: That's so gr8!\\r\\nEric:...   \n",
       "2      13680171  Lenny: Babe, can you help me with something?\\r...   \n",
       "3      13729438  Will: hey babe, what do you want for dinner to...   \n",
       "4      13828600  Ollie: Hi , are you in Warsaw\\r\\nJane: yes, ju...   \n",
       "..          ...                                                ...   \n",
       "814  13611902-1  Alex: Were you able to attend Friday night's b...   \n",
       "815    13820989  Jamilla: remember that the audition starts at ...   \n",
       "816    13717193  Marta: <file_gif>\\r\\nMarta: Sorry girls, I cli...   \n",
       "817    13829115  Cora: Have you heard how much fuss British med...   \n",
       "818    13818810  Rachel: <file_other>\\r\\nRachel: Top 50 Best Fi...   \n",
       "\n",
       "                                               summary  \n",
       "0    Hannah needs Betty's number but Amanda doesn't...  \n",
       "1    Eric and Rob are going to watch a stand-up on ...  \n",
       "2    Lenny can't decide which trousers to buy. Bob ...  \n",
       "3    Emma will be home soon and she will let Will k...  \n",
       "4    Jane is in Warsaw. Ollie and Jane has a party....  \n",
       "..                                                 ...  \n",
       "814  Benjamin didn't come to see a basketball game ...  \n",
       "815      The audition starts at 7.30 P.M. in Antena 3.  \n",
       "816                    Marta sent a file accidentally,  \n",
       "817  There was a meet-and-greet with James Charles ...  \n",
       "818  Rachel sends a list of Top 50 films of 2018. J...  \n",
       "\n",
       "[819 rows x 3 columns]"
      ]
     },
     "execution_count": 3,
     "metadata": {},
     "output_type": "execute_result"
    }
   ],
   "source": [
    "test_data"
   ]
  },
  {
   "cell_type": "code",
   "execution_count": 4,
   "id": "e6c49e54",
   "metadata": {},
   "outputs": [
    {
     "data": {
      "text/html": [
       "<div>\n",
       "<style scoped>\n",
       "    .dataframe tbody tr th:only-of-type {\n",
       "        vertical-align: middle;\n",
       "    }\n",
       "\n",
       "    .dataframe tbody tr th {\n",
       "        vertical-align: top;\n",
       "    }\n",
       "\n",
       "    .dataframe thead th {\n",
       "        text-align: right;\n",
       "    }\n",
       "</style>\n",
       "<table border=\"1\" class=\"dataframe\">\n",
       "  <thead>\n",
       "    <tr style=\"text-align: right;\">\n",
       "      <th></th>\n",
       "      <th>id</th>\n",
       "      <th>dialogue</th>\n",
       "      <th>summary</th>\n",
       "    </tr>\n",
       "  </thead>\n",
       "  <tbody>\n",
       "    <tr>\n",
       "      <th>0</th>\n",
       "      <td>13817023</td>\n",
       "      <td>A: Hi Tom, are you busy tomorrow’s afternoon?\\...</td>\n",
       "      <td>A will go to the animal shelter tomorrow to ge...</td>\n",
       "    </tr>\n",
       "    <tr>\n",
       "      <th>1</th>\n",
       "      <td>13716628</td>\n",
       "      <td>Emma: I’ve just fallen in love with this adven...</td>\n",
       "      <td>Emma and Rob love the advent calendar. Lauren ...</td>\n",
       "    </tr>\n",
       "    <tr>\n",
       "      <th>2</th>\n",
       "      <td>13829420</td>\n",
       "      <td>Jackie: Madison is pregnant\\r\\nJackie: but she...</td>\n",
       "      <td>Madison is pregnant but she doesn't want to ta...</td>\n",
       "    </tr>\n",
       "    <tr>\n",
       "      <th>3</th>\n",
       "      <td>13819648</td>\n",
       "      <td>Marla: &lt;file_photo&gt;\\r\\nMarla: look what I foun...</td>\n",
       "      <td>Marla found a pair of boxers under her bed.</td>\n",
       "    </tr>\n",
       "    <tr>\n",
       "      <th>4</th>\n",
       "      <td>13728448</td>\n",
       "      <td>Robert: Hey give me the address of this music ...</td>\n",
       "      <td>Robert wants Fred to send him the address of t...</td>\n",
       "    </tr>\n",
       "    <tr>\n",
       "      <th>...</th>\n",
       "      <td>...</td>\n",
       "      <td>...</td>\n",
       "      <td>...</td>\n",
       "    </tr>\n",
       "    <tr>\n",
       "      <th>813</th>\n",
       "      <td>13829423</td>\n",
       "      <td>Carla: I've got it...\\r\\nDiego: what?\\r\\nCarla...</td>\n",
       "      <td>Carla's date for graduation is on June 4th. Di...</td>\n",
       "    </tr>\n",
       "    <tr>\n",
       "      <th>814</th>\n",
       "      <td>13727710</td>\n",
       "      <td>Gita: Hello, this is Beti's Mum Gita, I wanted...</td>\n",
       "      <td>Bev is going on the school trip with her son. ...</td>\n",
       "    </tr>\n",
       "    <tr>\n",
       "      <th>815</th>\n",
       "      <td>13829261</td>\n",
       "      <td>Julia: Greg just texted me\\r\\nRobert: ugh, del...</td>\n",
       "      <td>Greg cheated on Julia. He apologises to her. R...</td>\n",
       "    </tr>\n",
       "    <tr>\n",
       "      <th>816</th>\n",
       "      <td>13680226</td>\n",
       "      <td>Marry: I broke my nail ;(\\r\\nTina: oh, no!\\r\\n...</td>\n",
       "      <td>Marry broke her nail and has a party tomorrow....</td>\n",
       "    </tr>\n",
       "    <tr>\n",
       "      <th>817</th>\n",
       "      <td>13862383</td>\n",
       "      <td>Paige: I asked them to wait and send the decla...</td>\n",
       "      <td>Paige wants to have the declaration sent later...</td>\n",
       "    </tr>\n",
       "  </tbody>\n",
       "</table>\n",
       "<p>818 rows × 3 columns</p>\n",
       "</div>"
      ],
      "text/plain": [
       "           id                                           dialogue  \\\n",
       "0    13817023  A: Hi Tom, are you busy tomorrow’s afternoon?\\...   \n",
       "1    13716628  Emma: I’ve just fallen in love with this adven...   \n",
       "2    13829420  Jackie: Madison is pregnant\\r\\nJackie: but she...   \n",
       "3    13819648  Marla: <file_photo>\\r\\nMarla: look what I foun...   \n",
       "4    13728448  Robert: Hey give me the address of this music ...   \n",
       "..        ...                                                ...   \n",
       "813  13829423  Carla: I've got it...\\r\\nDiego: what?\\r\\nCarla...   \n",
       "814  13727710  Gita: Hello, this is Beti's Mum Gita, I wanted...   \n",
       "815  13829261  Julia: Greg just texted me\\r\\nRobert: ugh, del...   \n",
       "816  13680226  Marry: I broke my nail ;(\\r\\nTina: oh, no!\\r\\n...   \n",
       "817  13862383  Paige: I asked them to wait and send the decla...   \n",
       "\n",
       "                                               summary  \n",
       "0    A will go to the animal shelter tomorrow to ge...  \n",
       "1    Emma and Rob love the advent calendar. Lauren ...  \n",
       "2    Madison is pregnant but she doesn't want to ta...  \n",
       "3          Marla found a pair of boxers under her bed.  \n",
       "4    Robert wants Fred to send him the address of t...  \n",
       "..                                                 ...  \n",
       "813  Carla's date for graduation is on June 4th. Di...  \n",
       "814  Bev is going on the school trip with her son. ...  \n",
       "815  Greg cheated on Julia. He apologises to her. R...  \n",
       "816  Marry broke her nail and has a party tomorrow....  \n",
       "817  Paige wants to have the declaration sent later...  \n",
       "\n",
       "[818 rows x 3 columns]"
      ]
     },
     "execution_count": 4,
     "metadata": {},
     "output_type": "execute_result"
    }
   ],
   "source": [
    "val_data"
   ]
  },
  {
   "cell_type": "code",
   "execution_count": 5,
   "id": "0b126c7c",
   "metadata": {},
   "outputs": [
    {
     "name": "stdout",
     "output_type": "stream",
     "text": [
      "(14732, 3)\n",
      "(819, 3)\n",
      "(818, 3)\n"
     ]
    }
   ],
   "source": [
    "print(train_data.shape)\n",
    "print(test_data.shape)\n",
    "print(val_data.shape)"
   ]
  },
  {
   "cell_type": "code",
   "execution_count": 6,
   "id": "8a70f298",
   "metadata": {},
   "outputs": [
    {
     "name": "stdout",
     "output_type": "stream",
     "text": [
      "id          0\n",
      "dialogue    1\n",
      "summary     0\n",
      "dtype: int64\n",
      "id          0\n",
      "dialogue    0\n",
      "summary     0\n",
      "dtype: int64\n",
      "id          0\n",
      "dialogue    0\n",
      "summary     0\n",
      "dtype: int64\n"
     ]
    }
   ],
   "source": [
    "print(train_data.isnull().sum())\n",
    "print(test_data.isnull().sum())\n",
    "print(val_data.isnull().sum())"
   ]
  },
  {
   "cell_type": "code",
   "execution_count": 7,
   "id": "a3140f89",
   "metadata": {},
   "outputs": [],
   "source": [
    "train_data = train_data.dropna()"
   ]
  },
  {
   "cell_type": "code",
   "execution_count": 8,
   "id": "b0a75533",
   "metadata": {},
   "outputs": [],
   "source": [
    "train_data = train_data.drop(\"id\",axis=1)\n",
    "test_data = test_data.drop(\"id\",axis=1)\n",
    "val_data = val_data.drop(\"id\",axis=1)"
   ]
  },
  {
   "cell_type": "markdown",
   "id": "afc6b311",
   "metadata": {},
   "source": [
    "# Pre-processing"
   ]
  },
  {
   "cell_type": "code",
   "execution_count": 9,
   "id": "41d35804",
   "metadata": {},
   "outputs": [],
   "source": [
    "stop_word = set(stopwords.words(\"english\"))\n",
    "negation_words = {\n",
    "    \"not\", \"no\", \"never\", \"none\", \"nobody\", \"nothing\", \"neither\", \"nowhere\",\n",
    "    \"hasn't\", \"haven't\", \"hadn't\", \"doesn't\", \"don't\", \"didn't\",\n",
    "    \"won't\", \"wouldn't\", \"can't\", \"couldn't\", \"isn't\", \"aren't\", \"wasn't\", \"weren't\",\n",
    "    \"without\", \"nor\"\n",
    "}\n",
    "\n",
    "filtered_stopwords = stop_word - negation_words\n",
    "\n",
    "punctuation = set(string.punctuation)\n",
    "\n",
    "def Preprocessing_text(text):\n",
    "\n",
    "  text =text.lower()\n",
    "\n",
    "  text = re.sub(r'<[^>]+>', '', text)\n",
    "\n",
    "  text = re.sub(r\"http\\S+\", \"\", text)\n",
    "\n",
    "  text = re.sub(r\"[^\\w\\s]\", \"\", text)\n",
    "\n",
    "  text = re.sub(r'\\s+', ' ', text).strip()\n",
    "\n",
    "  words = text.split()\n",
    "\n",
    "  filtered = [word for word in words if word not in filtered_stopwords]\n",
    "\n",
    "  return \" \".join(filtered)\n"
   ]
  },
  {
   "cell_type": "code",
   "execution_count": 10,
   "id": "3c1cf229",
   "metadata": {},
   "outputs": [],
   "source": [
    "train_data['dialogue'] = train_data['dialogue'].apply(Preprocessing_text)\n",
    "train_data['summary'] = train_data['summary'].apply(Preprocessing_text)\n",
    "\n",
    "val_data['dialogue'] = val_data['dialogue'].apply(Preprocessing_text)\n",
    "val_data['summary'] = val_data['summary'].apply(Preprocessing_text)"
   ]
  },
  {
   "cell_type": "code",
   "execution_count": 11,
   "id": "b0439eda",
   "metadata": {},
   "outputs": [
    {
     "data": {
      "text/html": [
       "<div>\n",
       "<style scoped>\n",
       "    .dataframe tbody tr th:only-of-type {\n",
       "        vertical-align: middle;\n",
       "    }\n",
       "\n",
       "    .dataframe tbody tr th {\n",
       "        vertical-align: top;\n",
       "    }\n",
       "\n",
       "    .dataframe thead th {\n",
       "        text-align: right;\n",
       "    }\n",
       "</style>\n",
       "<table border=\"1\" class=\"dataframe\">\n",
       "  <thead>\n",
       "    <tr style=\"text-align: right;\">\n",
       "      <th></th>\n",
       "      <th>dialogue</th>\n",
       "      <th>summary</th>\n",
       "    </tr>\n",
       "  </thead>\n",
       "  <tbody>\n",
       "    <tr>\n",
       "      <th>0</th>\n",
       "      <td>amanda baked cookies want jerry sure amanda il...</td>\n",
       "      <td>amanda baked cookies bring jerry tomorrow</td>\n",
       "    </tr>\n",
       "    <tr>\n",
       "      <th>1</th>\n",
       "      <td>olivia voting election oliver liberals always ...</td>\n",
       "      <td>olivia olivier voting liberals election</td>\n",
       "    </tr>\n",
       "    <tr>\n",
       "      <th>2</th>\n",
       "      <td>tim hi whats kim bad mood tbh going lots stuff...</td>\n",
       "      <td>kim may try pomodoro technique recommended tim...</td>\n",
       "    </tr>\n",
       "    <tr>\n",
       "      <th>3</th>\n",
       "      <td>edward rachel think im ove bella rachel dont s...</td>\n",
       "      <td>edward thinks love bella rachel wants edward o...</td>\n",
       "    </tr>\n",
       "    <tr>\n",
       "      <th>4</th>\n",
       "      <td>sam hey overheard rick say something sam dont ...</td>\n",
       "      <td>sam confused overheard rick complaining roomma...</td>\n",
       "    </tr>\n",
       "    <tr>\n",
       "      <th>...</th>\n",
       "      <td>...</td>\n",
       "      <td>...</td>\n",
       "    </tr>\n",
       "    <tr>\n",
       "      <th>14727</th>\n",
       "      <td>romeo people may know list greta ah maybe chan...</td>\n",
       "      <td>romeo trying get greta add friend list refuses</td>\n",
       "    </tr>\n",
       "    <tr>\n",
       "      <th>14728</th>\n",
       "      <td>theresa theresa theresa hey louise u theresa w...</td>\n",
       "      <td>theresa work gets free food free yoga classes ...</td>\n",
       "    </tr>\n",
       "    <tr>\n",
       "      <th>14729</th>\n",
       "      <td>john every day bad news japan hunt whales eric...</td>\n",
       "      <td>japan going hunt whales island norway never st...</td>\n",
       "    </tr>\n",
       "    <tr>\n",
       "      <th>14730</th>\n",
       "      <td>jennifer dear celia jennifer afternoon collins...</td>\n",
       "      <td>celia couldnt make afternoon collins jennifer ...</td>\n",
       "    </tr>\n",
       "    <tr>\n",
       "      <th>14731</th>\n",
       "      <td>georgia ready hotel hunting need book somethin...</td>\n",
       "      <td>georgia juliette looking hotel lisbon juliette...</td>\n",
       "    </tr>\n",
       "  </tbody>\n",
       "</table>\n",
       "<p>14731 rows × 2 columns</p>\n",
       "</div>"
      ],
      "text/plain": [
       "                                                dialogue  \\\n",
       "0      amanda baked cookies want jerry sure amanda il...   \n",
       "1      olivia voting election oliver liberals always ...   \n",
       "2      tim hi whats kim bad mood tbh going lots stuff...   \n",
       "3      edward rachel think im ove bella rachel dont s...   \n",
       "4      sam hey overheard rick say something sam dont ...   \n",
       "...                                                  ...   \n",
       "14727  romeo people may know list greta ah maybe chan...   \n",
       "14728  theresa theresa theresa hey louise u theresa w...   \n",
       "14729  john every day bad news japan hunt whales eric...   \n",
       "14730  jennifer dear celia jennifer afternoon collins...   \n",
       "14731  georgia ready hotel hunting need book somethin...   \n",
       "\n",
       "                                                 summary  \n",
       "0              amanda baked cookies bring jerry tomorrow  \n",
       "1                olivia olivier voting liberals election  \n",
       "2      kim may try pomodoro technique recommended tim...  \n",
       "3      edward thinks love bella rachel wants edward o...  \n",
       "4      sam confused overheard rick complaining roomma...  \n",
       "...                                                  ...  \n",
       "14727     romeo trying get greta add friend list refuses  \n",
       "14728  theresa work gets free food free yoga classes ...  \n",
       "14729  japan going hunt whales island norway never st...  \n",
       "14730  celia couldnt make afternoon collins jennifer ...  \n",
       "14731  georgia juliette looking hotel lisbon juliette...  \n",
       "\n",
       "[14731 rows x 2 columns]"
      ]
     },
     "execution_count": 11,
     "metadata": {},
     "output_type": "execute_result"
    }
   ],
   "source": [
    "train_data  "
   ]
  },
  {
   "cell_type": "code",
   "execution_count": 12,
   "id": "658939b2",
   "metadata": {},
   "outputs": [
    {
     "data": {
      "text/html": [
       "<div>\n",
       "<style scoped>\n",
       "    .dataframe tbody tr th:only-of-type {\n",
       "        vertical-align: middle;\n",
       "    }\n",
       "\n",
       "    .dataframe tbody tr th {\n",
       "        vertical-align: top;\n",
       "    }\n",
       "\n",
       "    .dataframe thead th {\n",
       "        text-align: right;\n",
       "    }\n",
       "</style>\n",
       "<table border=\"1\" class=\"dataframe\">\n",
       "  <thead>\n",
       "    <tr style=\"text-align: right;\">\n",
       "      <th></th>\n",
       "      <th>dialogue</th>\n",
       "      <th>summary</th>\n",
       "    </tr>\n",
       "  </thead>\n",
       "  <tbody>\n",
       "    <tr>\n",
       "      <th>0</th>\n",
       "      <td>hi tom busy tomorrows afternoon b im pretty su...</td>\n",
       "      <td>go animal shelter tomorrow get puppy son alrea...</td>\n",
       "    </tr>\n",
       "    <tr>\n",
       "      <th>1</th>\n",
       "      <td>emma ive fallen love advent calendar awesome w...</td>\n",
       "      <td>emma rob love advent calendar lauren fits insi...</td>\n",
       "    </tr>\n",
       "    <tr>\n",
       "      <th>2</th>\n",
       "      <td>jackie madison pregnant jackie doesnt wanna ta...</td>\n",
       "      <td>madison pregnant doesnt want talk patricia ste...</td>\n",
       "    </tr>\n",
       "    <tr>\n",
       "      <th>3</th>\n",
       "      <td>marla marla look found bed kiki lol tamara som...</td>\n",
       "      <td>marla found pair boxers bed</td>\n",
       "    </tr>\n",
       "    <tr>\n",
       "      <th>4</th>\n",
       "      <td>robert hey give address music shop mentioned r...</td>\n",
       "      <td>robert wants fred send address music shop need...</td>\n",
       "    </tr>\n",
       "    <tr>\n",
       "      <th>...</th>\n",
       "      <td>...</td>\n",
       "      <td>...</td>\n",
       "    </tr>\n",
       "    <tr>\n",
       "      <th>813</th>\n",
       "      <td>carla ive got diego carla date graduation hope...</td>\n",
       "      <td>carlas date graduation june 4th diego try come</td>\n",
       "    </tr>\n",
       "    <tr>\n",
       "      <th>814</th>\n",
       "      <td>gita hello betis mum gita wanted ask going sch...</td>\n",
       "      <td>bev going school trip son gita going school tr...</td>\n",
       "    </tr>\n",
       "    <tr>\n",
       "      <th>815</th>\n",
       "      <td>julia greg texted robert ugh delete already ju...</td>\n",
       "      <td>greg cheated julia apologises robert tells jul...</td>\n",
       "    </tr>\n",
       "    <tr>\n",
       "      <th>816</th>\n",
       "      <td>marry broke nail tina oh no marry u know party...</td>\n",
       "      <td>marry broke nail party tomorrow tina call cosm...</td>\n",
       "    </tr>\n",
       "    <tr>\n",
       "      <th>817</th>\n",
       "      <td>paige asked wait send declaration later paige ...</td>\n",
       "      <td>paige wants declaration sent later lisa wants ...</td>\n",
       "    </tr>\n",
       "  </tbody>\n",
       "</table>\n",
       "<p>818 rows × 2 columns</p>\n",
       "</div>"
      ],
      "text/plain": [
       "                                              dialogue  \\\n",
       "0    hi tom busy tomorrows afternoon b im pretty su...   \n",
       "1    emma ive fallen love advent calendar awesome w...   \n",
       "2    jackie madison pregnant jackie doesnt wanna ta...   \n",
       "3    marla marla look found bed kiki lol tamara som...   \n",
       "4    robert hey give address music shop mentioned r...   \n",
       "..                                                 ...   \n",
       "813  carla ive got diego carla date graduation hope...   \n",
       "814  gita hello betis mum gita wanted ask going sch...   \n",
       "815  julia greg texted robert ugh delete already ju...   \n",
       "816  marry broke nail tina oh no marry u know party...   \n",
       "817  paige asked wait send declaration later paige ...   \n",
       "\n",
       "                                               summary  \n",
       "0    go animal shelter tomorrow get puppy son alrea...  \n",
       "1    emma rob love advent calendar lauren fits insi...  \n",
       "2    madison pregnant doesnt want talk patricia ste...  \n",
       "3                          marla found pair boxers bed  \n",
       "4    robert wants fred send address music shop need...  \n",
       "..                                                 ...  \n",
       "813     carlas date graduation june 4th diego try come  \n",
       "814  bev going school trip son gita going school tr...  \n",
       "815  greg cheated julia apologises robert tells jul...  \n",
       "816  marry broke nail party tomorrow tina call cosm...  \n",
       "817  paige wants declaration sent later lisa wants ...  \n",
       "\n",
       "[818 rows x 2 columns]"
      ]
     },
     "execution_count": 12,
     "metadata": {},
     "output_type": "execute_result"
    }
   ],
   "source": [
    "val_data"
   ]
  },
  {
   "cell_type": "markdown",
   "id": "fece2ce6",
   "metadata": {},
   "source": [
    "# T5 Model"
   ]
  },
  {
   "cell_type": "code",
   "execution_count": 13,
   "id": "80cfe05a",
   "metadata": {},
   "outputs": [
    {
     "name": "stderr",
     "output_type": "stream",
     "text": [
      "You are using the default legacy behaviour of the <class 'transformers.models.t5.tokenization_t5.T5Tokenizer'>. This is expected, and simply means that the `legacy` (previous) behavior will be used so nothing changes for you. If you want to use the new behaviour, set `legacy=False`. This should only be set if you understand what it means, and thoroughly read the reason why this was added as explained in https://github.com/huggingface/transformers/pull/24565\n"
     ]
    }
   ],
   "source": [
    "from transformers import T5Tokenizer, T5ForConditionalGeneration\n",
    "\n",
    "model = T5ForConditionalGeneration.from_pretrained(\"t5-small\")\n",
    "tokenizer = T5Tokenizer.from_pretrained(\"t5-small\")\n",
    "\n"
   ]
  },
  {
   "cell_type": "code",
   "execution_count": 14,
   "id": "abc8182f",
   "metadata": {},
   "outputs": [
    {
     "name": "stderr",
     "output_type": "stream",
     "text": [
      "Token indices sequence length is longer than the specified maximum sequence length for this model (547 > 512). Running this sequence through the model will result in indexing errors\n"
     ]
    },
    {
     "name": "stdout",
     "output_type": "stream",
     "text": [
      "Train max: 563\n",
      "Val max: 452\n"
     ]
    }
   ],
   "source": [
    "train_data[\"input_len\"] = train_data[\"dialogue\"].apply(lambda x: len(tokenizer.encode(x, truncation=False)))\n",
    "val_data[\"input_len\"] = val_data[\"dialogue\"].apply(lambda x: len(tokenizer.encode(x, truncation=False)))\n",
    "\n",
    "print(\"Train max:\", train_data[\"input_len\"].max())\n",
    "print(\"Val max:\", val_data[\"input_len\"].max())"
   ]
  },
  {
   "cell_type": "code",
   "execution_count": 15,
   "id": "5957b59f",
   "metadata": {},
   "outputs": [
    {
     "name": "stdout",
     "output_type": "stream",
     "text": [
      "214.0\n",
      "41.0\n"
     ]
    }
   ],
   "source": [
    "max_input_len = train_data[\"input_len\"].quantile(0.95)\n",
    "max_target_len = train_data[\"summary\"].apply(lambda x: len(tokenizer.encode(x, truncation=False))).quantile(0.95)\n",
    "print(max_input_len)\n",
    "print(max_target_len)"
   ]
  },
  {
   "cell_type": "code",
   "execution_count": 30,
   "id": "5d333856",
   "metadata": {},
   "outputs": [
    {
     "name": "stderr",
     "output_type": "stream",
     "text": [
      "Token indices sequence length is longer than the specified maximum sequence length for this model (547 > 512). Running this sequence through the model will result in indexing errors\n"
     ]
    },
    {
     "data": {
      "image/png": "[encoded data removed]",
      "text/plain": [
       "<Figure size 1400x600 with 2 Axes>"
      ]
     },
     "metadata": {},
     "output_type": "display_data"
    }
   ],
   "source": [
    "import matplotlib.pyplot as plt\n",
    "\n",
    "dialogue_lengths = train_data[\"dialogue\"].apply(lambda x: len(tokenizer.encode(x, truncation=False)))\n",
    "\n",
    "summary_lengths = train_data[\"summary\"].apply(lambda x: len(tokenizer.encode(x, truncation=False)))\n",
    "\n",
    "plt.figure(figsize=(14, 6))\n",
    "\n",
    "plt.subplot(1, 2, 1)\n",
    "plt.hist(dialogue_lengths, bins=50, color='skyblue', edgecolor='black')\n",
    "plt.axvline(dialogue_lengths.quantile(0.95), color='red', linestyle='dashed', linewidth=2)\n",
    "plt.title(\"Dialogue Token Lengths\")\n",
    "plt.xlabel(\"Number of tokens\")\n",
    "plt.ylabel(\"Frequency\")\n",
    "plt.grid(True)\n",
    "\n",
    "plt.subplot(1, 2, 2)\n",
    "plt.hist(summary_lengths, bins=50, color='lightgreen', edgecolor='black')\n",
    "plt.axvline(summary_lengths.quantile(0.95), color='red', linestyle='dashed', linewidth=2)\n",
    "plt.title(\"Summary Token Lengths\")\n",
    "plt.xlabel(\"Number of tokens\")\n",
    "plt.ylabel(\"Frequency\")\n",
    "plt.grid(True)\n",
    "\n",
    "plt.tight_layout()\n",
    "plt.show()\n"
   ]
  },
  {
   "cell_type": "code",
   "execution_count": 16,
   "id": "56ee387f",
   "metadata": {},
   "outputs": [],
   "source": [
    "from datasets import Dataset\n",
    "\n",
    "train_data = train_data.reset_index(drop=True)\n",
    "val_data = val_data.reset_index(drop=True)\n",
    "test_data = test_data.reset_index(drop=True)\n",
    "\n",
    "\n",
    "train_dataset = Dataset.from_pandas(train_data)\n",
    "val_dataset = Dataset.from_pandas(val_data)\n",
    "test_dataset = Dataset.from_pandas(test_data)"
   ]
  },
  {
   "cell_type": "markdown",
   "id": "cdfc4c08",
   "metadata": {},
   "source": [
    "# Tokenizer"
   ]
  },
  {
   "cell_type": "code",
   "execution_count": 17,
   "id": "36cb8f0c",
   "metadata": {},
   "outputs": [],
   "source": [
    "def tokenization(example):\n",
    "    model_inputs = tokenizer(\n",
    "        example[\"dialogue\"],\n",
    "        max_length=int(max_input_len),\n",
    "        truncation=True,\n",
    "        padding=\"max_length\"\n",
    "    )\n",
    "\n",
    "    with tokenizer.as_target_tokenizer():\n",
    "        labels = tokenizer(\n",
    "            example[\"summary\"],\n",
    "            max_length=int(max_target_len),\n",
    "            truncation=True,\n",
    "            padding=\"max_length\"\n",
    "        )\n",
    "\n",
    "    model_inputs[\"labels\"] = labels[\"input_ids\"]\n",
    "    return model_inputs\n"
   ]
  },
  {
   "cell_type": "code",
   "execution_count": 18,
   "id": "c32aa0dd",
   "metadata": {},
   "outputs": [
    {
     "name": "stderr",
     "output_type": "stream",
     "text": [
      "Map: 100%|██████████| 14731/14731 [00:10<00:00, 1361.59 examples/s]\n",
      "Map: 100%|██████████| 818/818 [00:00<00:00, 1390.48 examples/s]\n"
     ]
    }
   ],
   "source": [
    "tokenized_train = train_dataset.map(tokenization, batched=False)\n",
    "tokenized_val = val_dataset.map(tokenization, batched=False)"
   ]
  },
  {
   "cell_type": "code",
   "execution_count": 19,
   "id": "e1044c86",
   "metadata": {},
   "outputs": [],
   "source": [
    "from transformers import Trainer, TrainingArguments\n",
    "from transformers import EarlyStoppingCallback\n",
    "training_args = TrainingArguments(\n",
    "    output_dir=\"./t5_summarizer\",\n",
    "    eval_strategy=\"epoch\",\n",
    "    per_device_train_batch_size=4,\n",
    "    per_device_eval_batch_size=4,\n",
    "    num_train_epochs=4,\n",
    "    metric_for_best_model=\"eval_loss\",\n",
    "    load_best_model_at_end=True,\n",
    "    save_strategy=\"epoch\",\n",
    "    logging_steps=50,\n",
    "    learning_rate=5e-5,\n",
    "    weight_decay=0.01,\n",
    "    save_total_limit=2,\n",
    "    report_to=\"none\"\n",
    ")"
   ]
  },
  {
   "cell_type": "markdown",
   "id": "aa55940c",
   "metadata": {},
   "source": [
    "# Training"
   ]
  },
  {
   "cell_type": "code",
   "execution_count": 20,
   "id": "59f58bb6",
   "metadata": {},
   "outputs": [
    {
     "name": "stderr",
     "output_type": "stream",
     "text": [
      "Passing a tuple of `past_key_values` is deprecated and will be removed in Transformers v4.48.0. You should pass an instance of `EncoderDecoderCache` instead, e.g. `past_key_values=EncoderDecoderCache.from_legacy_cache(past_key_values)`.\n"
     ]
    },
    {
     "data": {
      "text/html": [
       "\n",
       "    <div>\n",
       "      \n",
       "      <progress value='14732' max='14732' style='width:300px; height:20px; vertical-align: middle;'></progress>\n",
       "      [14732/14732 32:31, Epoch 4/4]\n",
       "    </div>\n",
       "    <table border=\"1\" class=\"dataframe\">\n",
       "  <thead>\n",
       " <tr style=\"text-align: left;\">\n",
       "      <th>Epoch</th>\n",
       "      <th>Training Loss</th>\n",
       "      <th>Validation Loss</th>\n",
       "    </tr>\n",
       "  </thead>\n",
       "  <tbody>\n",
       "    <tr>\n",
       "      <td>1</td>\n",
       "      <td>1.262600</td>\n",
       "      <td>1.151004</td>\n",
       "    </tr>\n",
       "    <tr>\n",
       "      <td>2</td>\n",
       "      <td>1.220300</td>\n",
       "      <td>1.116849</td>\n",
       "    </tr>\n",
       "    <tr>\n",
       "      <td>3</td>\n",
       "      <td>1.133400</td>\n",
       "      <td>1.101589</td>\n",
       "    </tr>\n",
       "    <tr>\n",
       "      <td>4</td>\n",
       "      <td>1.150800</td>\n",
       "      <td>1.102826</td>\n",
       "    </tr>\n",
       "  </tbody>\n",
       "</table><p>"
      ],
      "text/plain": [
       "<IPython.core.display.HTML object>"
      ]
     },
     "metadata": {},
     "output_type": "display_data"
    },
    {
     "name": "stderr",
     "output_type": "stream",
     "text": [
      "There were missing keys in the checkpoint model loaded: ['encoder.embed_tokens.weight', 'decoder.embed_tokens.weight', 'lm_head.weight'].\n"
     ]
    },
    {
     "data": {
      "text/plain": [
       "TrainOutput(global_step=14732, training_loss=1.2548236297972009, metrics={'train_runtime': 1952.3141, 'train_samples_per_second': 30.182, 'train_steps_per_second': 7.546, 'total_flos': 3333250754543616.0, 'train_loss': 1.2548236297972009, 'epoch': 4.0})"
      ]
     },
     "execution_count": 20,
     "metadata": {},
     "output_type": "execute_result"
    }
   ],
   "source": [
    "trainer = Trainer(\n",
    "    model=model,\n",
    "    args=training_args,\n",
    "    train_dataset=tokenized_train,\n",
    "    eval_dataset=tokenized_val,\n",
    "    tokenizer=tokenizer,\n",
    "    callbacks=[EarlyStoppingCallback(early_stopping_patience=2)]\n",
    ")\n",
    "\n",
    "trainer.train()"
   ]
  },
  {
   "cell_type": "markdown",
   "id": "ddf6a3f2",
   "metadata": {},
   "source": [
    "# Save Model & Load Model"
   ]
  },
  {
   "cell_type": "code",
   "execution_count": 21,
   "id": "52f45be7",
   "metadata": {},
   "outputs": [
    {
     "data": {
      "text/plain": [
       "('models/t5_summarizer_model\\\\tokenizer_config.json',\n",
       " 'models/t5_summarizer_model\\\\special_tokens_map.json',\n",
       " 'models/t5_summarizer_model\\\\spiece.model',\n",
       " 'models/t5_summarizer_model\\\\added_tokens.json')"
      ]
     },
     "execution_count": 21,
     "metadata": {},
     "output_type": "execute_result"
    }
   ],
   "source": [
    "model.save_pretrained(\"models/t5_summarizer_model\")\n",
    "tokenizer.save_pretrained(\"models/t5_summarizer_model\")"
   ]
  },
  {
   "cell_type": "code",
   "execution_count": 22,
   "id": "eb69cb29",
   "metadata": {},
   "outputs": [],
   "source": [
    "from transformers import T5ForConditionalGeneration, T5Tokenizer\n",
    "\n",
    "model = T5ForConditionalGeneration.from_pretrained(\"models/t5_summarizer_model\")\n",
    "tokenizer = T5Tokenizer.from_pretrained(\"models/t5_summarizer_model\")"
   ]
  },
  {
   "cell_type": "code",
   "execution_count": 23,
   "id": "88361f35",
   "metadata": {},
   "outputs": [],
   "source": [
    "def summarize_dialogue(dialogue):\n",
    "    dialogue = Preprocessing_text(dialogue)  \n",
    "    \n",
    "    inputs = tokenizer(dialogue, return_tensors=\"pt\", truncation=True, padding=\"max_length\", max_length=512)\n",
    "\n",
    "    outputs = model.generate(\n",
    "        inputs[\"input_ids\"],\n",
    "        max_length=150,\n",
    "        min_length=30,\n",
    "        num_beams=4,\n",
    "        length_penalty=2.0,\n",
    "        early_stopping=True\n",
    "    )\n",
    "\n",
    "    summary = tokenizer.decode(outputs[0], skip_special_tokens=True)\n",
    "    return summary"
   ]
  },
  {
   "cell_type": "code",
   "execution_count": 24,
   "id": "c3d02c8d",
   "metadata": {},
   "outputs": [
    {
     "name": "stderr",
     "output_type": "stream",
     "text": [
      "100%|██████████| 819/819 [27:03<00:00,  1.98s/it]    \n"
     ]
    }
   ],
   "source": [
    "from tqdm import tqdm \n",
    "tqdm.pandas()  \n",
    "\n",
    "test_data[\"predicted_summary\"] = test_data[\"dialogue\"].progress_apply(summarize_dialogue)\n"
   ]
  },
  {
   "cell_type": "code",
   "execution_count": 25,
   "id": "67bcd429",
   "metadata": {},
   "outputs": [
    {
     "name": "stdout",
     "output_type": "stream",
     "text": [
      "Example 1\n",
      "==================================================\n",
      "🔹 Dialogue:\n",
      "Hannah: Hey, do you have Betty's number?\n",
      "Amanda: Lemme check\n",
      "Hannah: <file_gif>\n",
      "Amanda: Sorry, can't find it.\n",
      "Amanda: Ask Larry\n",
      "Amanda: He called her last time we were at the park together\n",
      "Hannah: I don't know him well\n",
      "Hannah: <file_gif>\n",
      "Amanda: Don't be shy, he's very nice\n",
      "Hannah: If you say so..\n",
      "Hannah: I'd rather you texted him\n",
      "Amanda: Just text him 🙂\n",
      "Hannah: Urgh.. Alright\n",
      "Hannah: Bye\n",
      "Amanda: Bye bye\n",
      "\n",
      "True Summary:\n",
      "Hannah needs Betty's number but Amanda doesn't have it. She needs to contact Larry.\n",
      "\n",
      "Predicted Summary:\n",
      "hannah cant find bettys number amanda ask larry called last time park together hannah text hannah\n",
      "==================================================\n",
      "Example 2\n",
      "==================================================\n",
      "🔹 Dialogue:\n",
      "Eric: MACHINE!\n",
      "Rob: That's so gr8!\n",
      "Eric: I know! And shows how Americans see Russian ;)\n",
      "Rob: And it's really funny!\n",
      "Eric: I know! I especially like the train part!\n",
      "Rob: Hahaha! No one talks to the machine like that!\n",
      "Eric: Is this his only stand-up?\n",
      "Rob: Idk. I'll check.\n",
      "Eric: Sure.\n",
      "Rob: Turns out no! There are some of his stand-ups on youtube.\n",
      "Eric: Gr8! I'll watch them now!\n",
      "Rob: Me too!\n",
      "Eric: MACHINE!\n",
      "Rob: MACHINE!\n",
      "Eric: TTYL?\n",
      "Rob: Sure :)\n",
      "\n",
      "True Summary:\n",
      "Eric and Rob are going to watch a stand-up on youtube.\n",
      "\n",
      "Predicted Summary:\n",
      "erics machine shows americans see russian rob eric watch robs machine ttyl rob\n",
      "==================================================\n",
      "Example 3\n",
      "==================================================\n",
      "🔹 Dialogue:\n",
      "Lenny: Babe, can you help me with something?\n",
      "Bob: Sure, what's up?\n",
      "Lenny: Which one should I pick?\n",
      "Bob: Send me photos\n",
      "Lenny:  <file_photo>\n",
      "Lenny:  <file_photo>\n",
      "Lenny:  <file_photo>\n",
      "Bob: I like the first ones best\n",
      "Lenny: But I already have purple trousers. Does it make sense to have two pairs?\n",
      "Bob: I have four black pairs :D :D\n",
      "Lenny: yeah, but shouldn't I pick a different color?\n",
      "Bob: what matters is what you'll give you the most outfit options\n",
      "Lenny: So I guess I'll buy the first or the third pair then\n",
      "Bob: Pick the best quality then\n",
      "Lenny: ur right, thx\n",
      "Bob: no prob :)\n",
      "\n",
      "True Summary:\n",
      "Lenny can't decide which trousers to buy. Bob advised Lenny on that topic. Lenny goes with Bob's advice to pick the trousers that are of best quality.\n",
      "\n",
      "Predicted Summary:\n",
      "lenny picks bobs first pair purple trousers bob picks best quality bobs first third pair bob picks best quality\n",
      "==================================================\n"
     ]
    }
   ],
   "source": [
    "for i in range(3):\n",
    "    print(f\"Example {i+1}\")\n",
    "    print(\"=\" * 50)\n",
    "    print(f\"🔹 Dialogue:\\n{test_data['dialogue'].iloc[i]}\\n\")\n",
    "    print(f\"True Summary:\\n{test_data['summary'].iloc[i]}\\n\")\n",
    "    print(f\"Predicted Summary:\\n{test_data['predicted_summary'].iloc[i]}\")\n",
    "    print(\"=\" * 50)\n"
   ]
  },
  {
   "cell_type": "code",
   "execution_count": 26,
   "id": "88db7323",
   "metadata": {},
   "outputs": [
    {
     "name": "stdout",
     "output_type": "stream",
     "text": [
      "Requirement already satisfied: evaluate in c:\\users\\lenovo\\miniconda3\\envs\\tensorgpu\\lib\\site-packages (0.4.5)\n",
      "Requirement already satisfied: datasets>=2.0.0 in c:\\users\\lenovo\\miniconda3\\envs\\tensorgpu\\lib\\site-packages (from evaluate) (4.0.0)\n",
      "Requirement already satisfied: numpy>=1.17 in c:\\users\\lenovo\\miniconda3\\envs\\tensorgpu\\lib\\site-packages (from evaluate) (1.25.2)\n",
      "Requirement already satisfied: dill in c:\\users\\lenovo\\miniconda3\\envs\\tensorgpu\\lib\\site-packages (from evaluate) (0.3.8)\n",
      "Requirement already satisfied: pandas in c:\\users\\lenovo\\miniconda3\\envs\\tensorgpu\\lib\\site-packages (from evaluate) (2.3.1)\n",
      "Requirement already satisfied: requests>=2.19.0 in c:\\users\\lenovo\\miniconda3\\envs\\tensorgpu\\lib\\site-packages (from evaluate) (2.32.4)\n",
      "Requirement already satisfied: tqdm>=4.62.1 in c:\\users\\lenovo\\miniconda3\\envs\\tensorgpu\\lib\\site-packages (from evaluate) (4.67.1)\n",
      "Requirement already satisfied: xxhash in c:\\users\\lenovo\\miniconda3\\envs\\tensorgpu\\lib\\site-packages (from evaluate) (3.5.0)\n",
      "Requirement already satisfied: multiprocess in c:\\users\\lenovo\\miniconda3\\envs\\tensorgpu\\lib\\site-packages (from evaluate) (0.70.16)\n",
      "Requirement already satisfied: fsspec>=2021.05.0 in c:\\users\\lenovo\\miniconda3\\envs\\tensorgpu\\lib\\site-packages (from fsspec[http]>=2021.05.0->evaluate) (2025.3.0)\n",
      "Requirement already satisfied: huggingface-hub>=0.7.0 in c:\\users\\lenovo\\miniconda3\\envs\\tensorgpu\\lib\\site-packages (from evaluate) (0.33.4)\n",
      "Requirement already satisfied: packaging in c:\\users\\lenovo\\miniconda3\\envs\\tensorgpu\\lib\\site-packages (from evaluate) (25.0)\n",
      "Requirement already satisfied: filelock in c:\\users\\lenovo\\miniconda3\\envs\\tensorgpu\\lib\\site-packages (from datasets>=2.0.0->evaluate) (3.18.0)\n",
      "Requirement already satisfied: pyarrow>=15.0.0 in c:\\users\\lenovo\\miniconda3\\envs\\tensorgpu\\lib\\site-packages (from datasets>=2.0.0->evaluate) (20.0.0)\n",
      "Requirement already satisfied: pyyaml>=5.1 in c:\\users\\lenovo\\miniconda3\\envs\\tensorgpu\\lib\\site-packages (from datasets>=2.0.0->evaluate) (6.0.2)\n",
      "Requirement already satisfied: aiohttp!=4.0.0a0,!=4.0.0a1 in c:\\users\\lenovo\\miniconda3\\envs\\tensorgpu\\lib\\site-packages (from fsspec[http]>=2021.05.0->evaluate) (3.12.14)\n",
      "Requirement already satisfied: aiohappyeyeballs>=2.5.0 in c:\\users\\lenovo\\miniconda3\\envs\\tensorgpu\\lib\\site-packages (from aiohttp!=4.0.0a0,!=4.0.0a1->fsspec[http]>=2021.05.0->evaluate) (2.6.1)\n",
      "Requirement already satisfied: aiosignal>=1.4.0 in c:\\users\\lenovo\\miniconda3\\envs\\tensorgpu\\lib\\site-packages (from aiohttp!=4.0.0a0,!=4.0.0a1->fsspec[http]>=2021.05.0->evaluate) (1.4.0)\n",
      "Requirement already satisfied: async-timeout<6.0,>=4.0 in c:\\users\\lenovo\\miniconda3\\envs\\tensorgpu\\lib\\site-packages (from aiohttp!=4.0.0a0,!=4.0.0a1->fsspec[http]>=2021.05.0->evaluate) (5.0.1)\n",
      "Requirement already satisfied: attrs>=17.3.0 in c:\\users\\lenovo\\miniconda3\\envs\\tensorgpu\\lib\\site-packages (from aiohttp!=4.0.0a0,!=4.0.0a1->fsspec[http]>=2021.05.0->evaluate) (25.3.0)\n",
      "Requirement already satisfied: frozenlist>=1.1.1 in c:\\users\\lenovo\\miniconda3\\envs\\tensorgpu\\lib\\site-packages (from aiohttp!=4.0.0a0,!=4.0.0a1->fsspec[http]>=2021.05.0->evaluate) (1.7.0)\n",
      "Requirement already satisfied: multidict<7.0,>=4.5 in c:\\users\\lenovo\\miniconda3\\envs\\tensorgpu\\lib\\site-packages (from aiohttp!=4.0.0a0,!=4.0.0a1->fsspec[http]>=2021.05.0->evaluate) (6.6.3)\n",
      "Requirement already satisfied: propcache>=0.2.0 in c:\\users\\lenovo\\miniconda3\\envs\\tensorgpu\\lib\\site-packages (from aiohttp!=4.0.0a0,!=4.0.0a1->fsspec[http]>=2021.05.0->evaluate) (0.3.2)\n",
      "Requirement already satisfied: yarl<2.0,>=1.17.0 in c:\\users\\lenovo\\miniconda3\\envs\\tensorgpu\\lib\\site-packages (from aiohttp!=4.0.0a0,!=4.0.0a1->fsspec[http]>=2021.05.0->evaluate) (1.20.1)\n",
      "Requirement already satisfied: typing-extensions>=4.1.0 in c:\\users\\lenovo\\miniconda3\\envs\\tensorgpu\\lib\\site-packages (from multidict<7.0,>=4.5->aiohttp!=4.0.0a0,!=4.0.0a1->fsspec[http]>=2021.05.0->evaluate) (4.14.1)\n",
      "Requirement already satisfied: idna>=2.0 in c:\\users\\lenovo\\miniconda3\\envs\\tensorgpu\\lib\\site-packages (from yarl<2.0,>=1.17.0->aiohttp!=4.0.0a0,!=4.0.0a1->fsspec[http]>=2021.05.0->evaluate) (3.10)\n",
      "Requirement already satisfied: charset_normalizer<4,>=2 in c:\\users\\lenovo\\miniconda3\\envs\\tensorgpu\\lib\\site-packages (from requests>=2.19.0->evaluate) (3.4.2)\n",
      "Requirement already satisfied: urllib3<3,>=1.21.1 in c:\\users\\lenovo\\miniconda3\\envs\\tensorgpu\\lib\\site-packages (from requests>=2.19.0->evaluate) (2.5.0)\n",
      "Requirement already satisfied: certifi>=2017.4.17 in c:\\users\\lenovo\\miniconda3\\envs\\tensorgpu\\lib\\site-packages (from requests>=2.19.0->evaluate) (2025.7.14)\n",
      "Requirement already satisfied: colorama in c:\\users\\lenovo\\miniconda3\\envs\\tensorgpu\\lib\\site-packages (from tqdm>=4.62.1->evaluate) (0.4.6)\n",
      "Requirement already satisfied: python-dateutil>=2.8.2 in c:\\users\\lenovo\\miniconda3\\envs\\tensorgpu\\lib\\site-packages (from pandas->evaluate) (2.9.0.post0)\n",
      "Requirement already satisfied: pytz>=2020.1 in c:\\users\\lenovo\\miniconda3\\envs\\tensorgpu\\lib\\site-packages (from pandas->evaluate) (2025.2)\n",
      "Requirement already satisfied: tzdata>=2022.7 in c:\\users\\lenovo\\miniconda3\\envs\\tensorgpu\\lib\\site-packages (from pandas->evaluate) (2025.2)\n",
      "Requirement already satisfied: six>=1.5 in c:\\users\\lenovo\\miniconda3\\envs\\tensorgpu\\lib\\site-packages (from python-dateutil>=2.8.2->pandas->evaluate) (1.17.0)\n",
      "Requirement already satisfied: rouge_score in c:\\users\\lenovo\\miniconda3\\envs\\tensorgpu\\lib\\site-packages (0.1.2)\n",
      "Requirement already satisfied: absl-py in c:\\users\\lenovo\\miniconda3\\envs\\tensorgpu\\lib\\site-packages (from rouge_score) (2.3.1)\n",
      "Requirement already satisfied: nltk in c:\\users\\lenovo\\miniconda3\\envs\\tensorgpu\\lib\\site-packages (from rouge_score) (3.9.1)\n",
      "Requirement already satisfied: numpy in c:\\users\\lenovo\\miniconda3\\envs\\tensorgpu\\lib\\site-packages (from rouge_score) (1.25.2)\n",
      "Requirement already satisfied: six>=1.14.0 in c:\\users\\lenovo\\miniconda3\\envs\\tensorgpu\\lib\\site-packages (from rouge_score) (1.17.0)\n",
      "Requirement already satisfied: click in c:\\users\\lenovo\\miniconda3\\envs\\tensorgpu\\lib\\site-packages (from nltk->rouge_score) (8.2.1)\n",
      "Requirement already satisfied: joblib in c:\\users\\lenovo\\miniconda3\\envs\\tensorgpu\\lib\\site-packages (from nltk->rouge_score) (1.5.1)\n",
      "Requirement already satisfied: regex>=2021.8.3 in c:\\users\\lenovo\\miniconda3\\envs\\tensorgpu\\lib\\site-packages (from nltk->rouge_score) (2024.11.6)\n",
      "Requirement already satisfied: tqdm in c:\\users\\lenovo\\miniconda3\\envs\\tensorgpu\\lib\\site-packages (from nltk->rouge_score) (4.67.1)\n",
      "Requirement already satisfied: colorama in c:\\users\\lenovo\\miniconda3\\envs\\tensorgpu\\lib\\site-packages (from click->nltk->rouge_score) (0.4.6)\n",
      "Requirement already satisfied: bert_score in c:\\users\\lenovo\\miniconda3\\envs\\tensorgpu\\lib\\site-packages (0.3.13)\n",
      "Requirement already satisfied: torch>=1.0.0 in c:\\users\\lenovo\\miniconda3\\envs\\tensorgpu\\lib\\site-packages (from bert_score) (2.7.1+cu118)\n",
      "Requirement already satisfied: pandas>=1.0.1 in c:\\users\\lenovo\\miniconda3\\envs\\tensorgpu\\lib\\site-packages (from bert_score) (2.3.1)\n",
      "Requirement already satisfied: transformers>=3.0.0 in c:\\users\\lenovo\\miniconda3\\envs\\tensorgpu\\lib\\site-packages (from bert_score) (4.53.2)\n",
      "Requirement already satisfied: numpy in c:\\users\\lenovo\\miniconda3\\envs\\tensorgpu\\lib\\site-packages (from bert_score) (1.25.2)\n",
      "Requirement already satisfied: requests in c:\\users\\lenovo\\miniconda3\\envs\\tensorgpu\\lib\\site-packages (from bert_score) (2.32.4)\n",
      "Requirement already satisfied: tqdm>=4.31.1 in c:\\users\\lenovo\\miniconda3\\envs\\tensorgpu\\lib\\site-packages (from bert_score) (4.67.1)\n",
      "Requirement already satisfied: matplotlib in c:\\users\\lenovo\\miniconda3\\envs\\tensorgpu\\lib\\site-packages (from bert_score) (3.10.3)\n",
      "Requirement already satisfied: packaging>=20.9 in c:\\users\\lenovo\\miniconda3\\envs\\tensorgpu\\lib\\site-packages (from bert_score) (25.0)\n",
      "Requirement already satisfied: python-dateutil>=2.8.2 in c:\\users\\lenovo\\miniconda3\\envs\\tensorgpu\\lib\\site-packages (from pandas>=1.0.1->bert_score) (2.9.0.post0)\n",
      "Requirement already satisfied: pytz>=2020.1 in c:\\users\\lenovo\\miniconda3\\envs\\tensorgpu\\lib\\site-packages (from pandas>=1.0.1->bert_score) (2025.2)\n",
      "Requirement already satisfied: tzdata>=2022.7 in c:\\users\\lenovo\\miniconda3\\envs\\tensorgpu\\lib\\site-packages (from pandas>=1.0.1->bert_score) (2025.2)\n",
      "Requirement already satisfied: six>=1.5 in c:\\users\\lenovo\\miniconda3\\envs\\tensorgpu\\lib\\site-packages (from python-dateutil>=2.8.2->pandas>=1.0.1->bert_score) (1.17.0)\n",
      "Requirement already satisfied: filelock in c:\\users\\lenovo\\miniconda3\\envs\\tensorgpu\\lib\\site-packages (from torch>=1.0.0->bert_score) (3.18.0)\n",
      "Requirement already satisfied: typing-extensions>=4.10.0 in c:\\users\\lenovo\\miniconda3\\envs\\tensorgpu\\lib\\site-packages (from torch>=1.0.0->bert_score) (4.14.1)\n",
      "Requirement already satisfied: sympy>=1.13.3 in c:\\users\\lenovo\\miniconda3\\envs\\tensorgpu\\lib\\site-packages (from torch>=1.0.0->bert_score) (1.13.3)\n",
      "Requirement already satisfied: networkx in c:\\users\\lenovo\\miniconda3\\envs\\tensorgpu\\lib\\site-packages (from torch>=1.0.0->bert_score) (3.3)\n",
      "Requirement already satisfied: jinja2 in c:\\users\\lenovo\\miniconda3\\envs\\tensorgpu\\lib\\site-packages (from torch>=1.0.0->bert_score) (3.1.6)\n",
      "Requirement already satisfied: fsspec in c:\\users\\lenovo\\miniconda3\\envs\\tensorgpu\\lib\\site-packages (from torch>=1.0.0->bert_score) (2025.3.0)\n",
      "Requirement already satisfied: mpmath<1.4,>=1.1.0 in c:\\users\\lenovo\\miniconda3\\envs\\tensorgpu\\lib\\site-packages (from sympy>=1.13.3->torch>=1.0.0->bert_score) (1.3.0)\n",
      "Requirement already satisfied: colorama in c:\\users\\lenovo\\miniconda3\\envs\\tensorgpu\\lib\\site-packages (from tqdm>=4.31.1->bert_score) (0.4.6)\n",
      "Requirement already satisfied: huggingface-hub<1.0,>=0.30.0 in c:\\users\\lenovo\\miniconda3\\envs\\tensorgpu\\lib\\site-packages (from transformers>=3.0.0->bert_score) (0.33.4)\n",
      "Requirement already satisfied: pyyaml>=5.1 in c:\\users\\lenovo\\miniconda3\\envs\\tensorgpu\\lib\\site-packages (from transformers>=3.0.0->bert_score) (6.0.2)\n",
      "Requirement already satisfied: regex!=2019.12.17 in c:\\users\\lenovo\\miniconda3\\envs\\tensorgpu\\lib\\site-packages (from transformers>=3.0.0->bert_score) (2024.11.6)\n",
      "Requirement already satisfied: tokenizers<0.22,>=0.21 in c:\\users\\lenovo\\miniconda3\\envs\\tensorgpu\\lib\\site-packages (from transformers>=3.0.0->bert_score) (0.21.2)\n",
      "Requirement already satisfied: safetensors>=0.4.3 in c:\\users\\lenovo\\miniconda3\\envs\\tensorgpu\\lib\\site-packages (from transformers>=3.0.0->bert_score) (0.5.3)\n",
      "Requirement already satisfied: MarkupSafe>=2.0 in c:\\users\\lenovo\\miniconda3\\envs\\tensorgpu\\lib\\site-packages (from jinja2->torch>=1.0.0->bert_score) (3.0.2)\n",
      "Requirement already satisfied: contourpy>=1.0.1 in c:\\users\\lenovo\\miniconda3\\envs\\tensorgpu\\lib\\site-packages (from matplotlib->bert_score) (1.3.2)\n",
      "Requirement already satisfied: cycler>=0.10 in c:\\users\\lenovo\\miniconda3\\envs\\tensorgpu\\lib\\site-packages (from matplotlib->bert_score) (0.12.1)\n",
      "Requirement already satisfied: fonttools>=4.22.0 in c:\\users\\lenovo\\miniconda3\\envs\\tensorgpu\\lib\\site-packages (from matplotlib->bert_score) (4.59.0)\n",
      "Requirement already satisfied: kiwisolver>=1.3.1 in c:\\users\\lenovo\\miniconda3\\envs\\tensorgpu\\lib\\site-packages (from matplotlib->bert_score) (1.4.8)\n",
      "Requirement already satisfied: pillow>=8 in c:\\users\\lenovo\\miniconda3\\envs\\tensorgpu\\lib\\site-packages (from matplotlib->bert_score) (11.3.0)\n",
      "Requirement already satisfied: pyparsing>=2.3.1 in c:\\users\\lenovo\\miniconda3\\envs\\tensorgpu\\lib\\site-packages (from matplotlib->bert_score) (3.2.3)\n",
      "Requirement already satisfied: charset_normalizer<4,>=2 in c:\\users\\lenovo\\miniconda3\\envs\\tensorgpu\\lib\\site-packages (from requests->bert_score) (3.4.2)\n",
      "Requirement already satisfied: idna<4,>=2.5 in c:\\users\\lenovo\\miniconda3\\envs\\tensorgpu\\lib\\site-packages (from requests->bert_score) (3.10)\n",
      "Requirement already satisfied: urllib3<3,>=1.21.1 in c:\\users\\lenovo\\miniconda3\\envs\\tensorgpu\\lib\\site-packages (from requests->bert_score) (2.5.0)\n",
      "Requirement already satisfied: certifi>=2017.4.17 in c:\\users\\lenovo\\miniconda3\\envs\\tensorgpu\\lib\\site-packages (from requests->bert_score) (2025.7.14)\n"
     ]
    }
   ],
   "source": [
    "!pip install evaluate\n",
    "!pip install rouge_score\n",
    "!pip install bert_score"
   ]
  },
  {
   "cell_type": "code",
   "execution_count": 27,
   "id": "28996fdc",
   "metadata": {},
   "outputs": [
    {
     "name": "stderr",
     "output_type": "stream",
     "text": [
      "Some weights of RobertaModel were not initialized from the model checkpoint at roberta-large and are newly initialized: ['pooler.dense.bias', 'pooler.dense.weight']\n",
      "You should probably TRAIN this model on a down-stream task to be able to use it for predictions and inference.\n"
     ]
    },
    {
     "name": "stdout",
     "output_type": "stream",
     "text": [
      "BERTScore:\n",
      "Precision: 0.8158\n",
      "Recall:    0.8568\n",
      "F1:        0.8356\n"
     ]
    }
   ],
   "source": [
    "from evaluate import load\n",
    "\n",
    "bertscore = load(\"bertscore\")\n",
    "\n",
    "results = bertscore.compute(\n",
    "    predictions=test_data[\"predicted_summary\"].tolist(),\n",
    "    references=test_data[\"summary\"].tolist(),\n",
    "    lang=\"en\"  \n",
    ")\n",
    "\n",
    "print(\"BERTScore:\")\n",
    "print(f\"Precision: {sum(results['precision']) / len(results['precision']):.4f}\")\n",
    "print(f\"Recall:    {sum(results['recall']) / len(results['recall']):.4f}\")\n",
    "print(f\"F1:        {sum(results['f1']) / len(results['f1']):.4f}\")\n"
   ]
  },
  {
   "cell_type": "code",
   "execution_count": 28,
   "id": "c152902b",
   "metadata": {},
   "outputs": [
    {
     "name": "stdout",
     "output_type": "stream",
     "text": [
      "ROUGE Scores:\n",
      "rouge1: 0.3023\n",
      "rouge2: 0.0479\n",
      "rougeL: 0.2511\n",
      "rougeLsum: 0.2511\n"
     ]
    }
   ],
   "source": [
    "rouge = load(\"rouge\")\n",
    "\n",
    "results = rouge.compute(\n",
    "    predictions=test_data[\"predicted_summary\"].tolist(),\n",
    "    references=test_data[\"summary\"].tolist()\n",
    ")\n",
    "\n",
    "print(\"ROUGE Scores:\")\n",
    "for k, v in results.items():\n",
    "    print(f\"{k}: {v:.4f}\")    "
   ]
  }
 ],
 "metadata": {
  "kernelspec": {
   "display_name": "tensorGPU",
   "language": "python",
   "name": "python3"
  },
  "language_info": {
   "codemirror_mode": {
    "name": "ipython",
    "version": 3
   },
   "file_extension": ".py",
   "mimetype": "text/x-python",
   "name": "python",
   "nbconvert_exporter": "python",
   "pygments_lexer": "ipython3",
   "version": "3.10.14"
  }
 },
 "nbformat": 4,
 "nbformat_minor": 5
}
